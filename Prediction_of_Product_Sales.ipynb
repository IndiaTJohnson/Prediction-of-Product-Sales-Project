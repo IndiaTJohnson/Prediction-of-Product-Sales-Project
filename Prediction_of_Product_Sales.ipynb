{
  "nbformat": 4,
  "nbformat_minor": 0,
  "metadata": {
    "colab": {
      "provenance": [],
      "authorship_tag": "ABX9TyNmZNnpqykQFayGfN+wFVHo",
      "include_colab_link": true
    },
    "kernelspec": {
      "name": "python3",
      "display_name": "Python 3"
    },
    "language_info": {
      "name": "python"
    }
  },
  "cells": [
    {
      "cell_type": "markdown",
      "metadata": {
        "id": "view-in-github",
        "colab_type": "text"
      },
      "source": [
        "<a href=\"https://colab.research.google.com/github/IndiaTJohnson/Prediction-of-Product-Sales/blob/main/Prediction_of_Product_Sales.ipynb\" target=\"_parent\"><img src=\"https://colab.research.google.com/assets/colab-badge.svg\" alt=\"Open In Colab\"/></a>"
      ]
    },
    {
      "cell_type": "markdown",
      "source": [
        "# Project Title: Prediction of Product Sales"
      ],
      "metadata": {
        "id": "YA0gA1L3fBb4"
      }
    },
    {
      "cell_type": "markdown",
      "source": [
        "- India Johnson"
      ],
      "metadata": {
        "id": "rt7GC5LxfBXZ"
      }
    },
    {
      "cell_type": "markdown",
      "source": [
        "## Project Overview"
      ],
      "metadata": {
        "id": "Wj8k4jGMfBVC"
      }
    },
    {
      "cell_type": "code",
      "source": [],
      "metadata": {
        "id": "qhcUwDtYfsJR"
      },
      "execution_count": null,
      "outputs": []
    },
    {
      "cell_type": "markdown",
      "source": [
        "## Load and Inspect Data"
      ],
      "metadata": {
        "id": "TLc5DBe2fBUT"
      }
    },
    {
      "cell_type": "code",
      "source": [],
      "metadata": {
        "id": "odR11QYGfspA"
      },
      "execution_count": null,
      "outputs": []
    },
    {
      "cell_type": "markdown",
      "source": [
        "## Clean Data"
      ],
      "metadata": {
        "id": "LVcWPHbKfBPi"
      }
    },
    {
      "cell_type": "code",
      "source": [],
      "metadata": {
        "id": "Th8Z3XvjftH5"
      },
      "execution_count": null,
      "outputs": []
    },
    {
      "cell_type": "markdown",
      "source": [
        "## Exploratory Data Analysis"
      ],
      "metadata": {
        "id": "AEF8_2infBOm"
      }
    },
    {
      "cell_type": "code",
      "source": [],
      "metadata": {
        "id": "EnRcxMnaft8S"
      },
      "execution_count": null,
      "outputs": []
    },
    {
      "cell_type": "markdown",
      "source": [
        "## Feature Inspection"
      ],
      "metadata": {
        "id": "5J2-f7LhfBKN"
      }
    },
    {
      "cell_type": "code",
      "source": [],
      "metadata": {
        "id": "fT13VwihfubD"
      },
      "execution_count": null,
      "outputs": []
    },
    {
      "cell_type": "markdown",
      "source": [],
      "metadata": {
        "id": "bnignBEsfBHn"
      }
    },
    {
      "cell_type": "markdown",
      "source": [],
      "metadata": {
        "id": "8I0d3UIKfBD3"
      }
    },
    {
      "cell_type": "markdown",
      "source": [],
      "metadata": {
        "id": "_Fj8pe1xe8tT"
      }
    }
  ]
}